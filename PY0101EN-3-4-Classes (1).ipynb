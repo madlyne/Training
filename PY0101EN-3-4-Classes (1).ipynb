{
  "cells": [
    {
      "cell_type": "markdown",
      "id": "26bd5fca-b65e-45a0-a02d-a62d6cf602f9",
      "metadata": {},
      "outputs": [],
      "source": [
        "<center>\n",
        "    <img src=\"https://cf-courses-data.s3.us.cloud-object-storage.appdomain.cloud/IBMDeveloperSkillsNetwork-PY0101EN-SkillsNetwork/IDSNlogo.png\" width=\"300\" alt=\"cognitiveclass.ai logo\">\n",
        "</center>\n",
        "\n",
        "# Classes and Objects in Python\n",
        "\n",
        "Estimated time needed: **40** minutes\n",
        "\n",
        "## Objectives\n",
        "\n",
        "After completing this lab you will be able to:\n",
        "\n",
        "*   Work with classes and objects\n",
        "*   Identify and define attributes and methods\n"
      ]
    },
    {
      "cell_type": "markdown",
      "id": "ed49b3ed-e874-4246-a048-65564a750b7b",
      "metadata": {},
      "outputs": [],
      "source": [
        "<h2>Table of Contents</h2>\n",
        "<div class=\"alert alert-block alert-info\" style=\"margin-top: 20px\">\n",
        "    <ul>\n",
        "        <li>\n",
        "            <a href=\"https://#intro\">Introduction to Classes and Objects</a>\n",
        "            <ul>\n",
        "                <li><a href=\"https://create/?utm_medium=Exinfluencer&utm_source=Exinfluencer&utm_content=000026UJ&utm_term=10006555&utm_id=NA-SkillsNetwork-Channel-SkillsNetworkCoursesIBMDeveloperSkillsNetworkPY0101ENSkillsNetwork19487395-2021-01-01\">Creating a class</a></li>\n",
        "                <li><a href=\"https://instance/?utm_medium=Exinfluencer&utm_source=Exinfluencer&utm_content=000026UJ&utm_term=10006555&utm_id=NA-SkillsNetwork-Channel-SkillsNetworkCoursesIBMDeveloperSkillsNetworkPY0101ENSkillsNetwork19487395-2021-01-01\">Instances of a Class: Objects and Attributes</a></li>\n",
        "                <li><a href=\"https://method/?utm_medium=Exinfluencer&utm_source=Exinfluencer&utm_content=000026UJ&utm_term=10006555&utm_id=NA-SkillsNetwork-Channel-SkillsNetworkCoursesIBMDeveloperSkillsNetworkPY0101ENSkillsNetwork19487395-2021-01-01\">Methods</a></li>\n",
        "            </ul>\n",
        "        </li>\n",
        "        <li><a href=\"https://creating/?utm_medium=Exinfluencer&utm_source=Exinfluencer&utm_content=000026UJ&utm_term=10006555&utm_id=NA-SkillsNetwork-Channel-SkillsNetworkCoursesIBMDeveloperSkillsNetworkPY0101ENSkillsNetwork19487395-2021-01-01\">Creating a class</a></li>\n",
        "        <li><a href=\"https://circle/?utm_medium=Exinfluencer&utm_source=Exinfluencer&utm_content=000026UJ&utm_term=10006555&utm_id=NA-SkillsNetwork-Channel-SkillsNetworkCoursesIBMDeveloperSkillsNetworkPY0101ENSkillsNetwork19487395-2021-01-01\">Creating an instance of a class Circle</a></li>\n",
        "        <li><a href=\"https://rect/?utm_medium=Exinfluencer&utm_source=Exinfluencer&utm_content=000026UJ&utm_term=10006555&utm_id=NA-SkillsNetwork-Channel-SkillsNetworkCoursesIBMDeveloperSkillsNetworkPY0101ENSkillsNetwork19487395-2021-01-01\">The Rectangle Class</a></li>\n",
        "    </ul>\n",
        "\n",
        "</div>\n",
        "\n",
        "<hr>\n"
      ]
    },
    {
      "cell_type": "markdown",
      "id": "6423982c-1560-4713-b993-6394c09f42ee",
      "metadata": {},
      "outputs": [],
      "source": [
        "<h2 id=\"intro\">Introduction to Classes and Objects</h2>\n"
      ]
    },
    {
      "cell_type": "markdown",
      "id": "24d51fac-fdbf-4e4e-8942-48b5aa6f1ac3",
      "metadata": {},
      "outputs": [],
      "source": [
        "<h3>Creating a Class</h3>\n"
      ]
    },
    {
      "cell_type": "markdown",
      "id": "bc88e44d-b525-4565-a3de-100acbe1a09f",
      "metadata": {},
      "outputs": [],
      "source": [
        "The first step in creating a class is giving it a name. In this notebook, we will create two classes: Circle and Rectangle. We need to determine all the data that make up that class, which we call <em>attributes</em>. Think about this step as creating a blueprint that we will use to create objects. In figure 1 we see two classes, Circle and Rectangle. Each has their attributes, which are variables. The class Circle has the attribute radius and color, while the Rectangle class has the attribute height and width. Let’s use the visual examples of these shapes before we get to the code, as this will help you get accustomed to the vocabulary.\n"
      ]
    },
    {
      "cell_type": "markdown",
      "id": "ac739265-09e0-46f2-a0bc-197556019354",
      "metadata": {},
      "outputs": [],
      "source": [
        "<img src=\"https://cf-courses-data.s3.us.cloud-object-storage.appdomain.cloud/IBMDeveloperSkillsNetwork-PY0101EN-SkillsNetwork/labs/Module%203/images/ClassesClass.png\" width=\"500\">\n"
      ]
    },
    {
      "cell_type": "markdown",
      "id": "2ae0e595-3ded-4928-a1c7-b477c397d127",
      "metadata": {},
      "outputs": [],
      "source": [
        "<i>Figure 1: Classes circle and rectangle, and each has their own attributes. The class Circle has the attribute radius and colour, the class Rectangle has the attributes height and width.</i>\n"
      ]
    },
    {
      "cell_type": "markdown",
      "id": "e6b8f99f-45ad-423a-89d7-6593dd36c012",
      "metadata": {},
      "outputs": [],
      "source": [
        "<h3 id=\"instance\">Instances of a Class: Objects and Attributes</h3>\n"
      ]
    },
    {
      "cell_type": "markdown",
      "id": "d035a710-04c4-4ec3-a4e3-0418156c628c",
      "metadata": {},
      "outputs": [],
      "source": [
        "An instance of an object is the realisation of a class, and in Figure 2 we see three instances of the class circle. We give each object a name: red circle, yellow circle, and green circle. Each object has different attributes, so let's focus on the color attribute for each object.\n"
      ]
    },
    {
      "cell_type": "markdown",
      "id": "37aee097-96b5-487a-a14c-78f8705d969a",
      "metadata": {},
      "outputs": [],
      "source": [
        "<img src=\"https://cf-courses-data.s3.us.cloud-object-storage.appdomain.cloud/IBMDeveloperSkillsNetwork-PY0101EN-SkillsNetwork/labs/Module%203/images/ClassesObj.png\" width=\"500\">\n"
      ]
    },
    {
      "cell_type": "markdown",
      "id": "e12130e7-b540-49a5-9820-a6ae508efd26",
      "metadata": {},
      "outputs": [],
      "source": [
        "<i>Figure 2: Three instances of the class Circle, or three objects of type Circle.</i>\n"
      ]
    },
    {
      "cell_type": "markdown",
      "id": "ddba5714-2b5a-4eca-9d55-50048357fd57",
      "metadata": {},
      "outputs": [],
      "source": [
        "The colour attribute for the red Circle is the colour red, for the green Circle object the colour attribute is green, and for the yellow Circle the colour attribute is yellow.\n"
      ]
    },
    {
      "cell_type": "markdown",
      "id": "7f4bffb8-c02a-4db9-bdf1-b693d32a7533",
      "metadata": {},
      "outputs": [],
      "source": [
        "<h3 id=\"method\">Methods</h3>\n"
      ]
    },
    {
      "cell_type": "markdown",
      "id": "230626bd-721b-4dbe-b007-78f60cbb879c",
      "metadata": {},
      "outputs": [],
      "source": [
        "Methods give you a way to change or interact with the object; they are functions that interact with objects. For example, let’s say we would like to increase the radius of a circle by a specified amount. We can create a method called **add_radius(r)** that increases the radius by **r**. This is shown in figure 3, where after applying the method to the \"orange circle object\", the radius of the object increases accordingly. The “dot” notation means to apply the method to the object, which is essentially applying a function to the information in the object.\n"
      ]
    },
    {
      "cell_type": "markdown",
      "id": "25df0486-bfaa-4d3b-98d2-80982467860f",
      "metadata": {},
      "outputs": [],
      "source": [
        "<img src=\"https://cf-courses-data.s3.us.cloud-object-storage.appdomain.cloud/IBMDeveloperSkillsNetwork-PY0101EN-SkillsNetwork/labs/Module%203/images/ClassesMethod.png\" width=\"500\"> \n"
      ]
    },
    {
      "cell_type": "markdown",
      "id": "bd19feb9-d3d3-434c-8dbb-480cf2891118",
      "metadata": {},
      "outputs": [],
      "source": [
        "<i>Figure 3: Applying the method “add_radius” to the object orange circle object.</i>\n"
      ]
    },
    {
      "cell_type": "markdown",
      "id": "7c3b76d0-75d0-4e9b-a735-211dfb7e811d",
      "metadata": {},
      "outputs": [],
      "source": [
        "<hr>\n"
      ]
    },
    {
      "cell_type": "markdown",
      "id": "065ccf58-022a-48f9-a8ac-234c5858021e",
      "metadata": {},
      "outputs": [],
      "source": [
        "<h2 id=\"creating\">Creating a Class</h2>\n"
      ]
    },
    {
      "cell_type": "markdown",
      "id": "0144c4f6-fcf6-4152-86e2-22cd16ec00c7",
      "metadata": {},
      "outputs": [],
      "source": [
        "Now we are going to create a class Circle, but first, we are going to import a library to draw the objects:\n"
      ]
    },
    {
      "cell_type": "code",
      "id": "efec3ee3-b652-4dd4-adc9-5c93447018a9",
      "metadata": {},
      "outputs": [],
      "source": [
        "# Import the library\n\nimport matplotlib.pyplot as plt\n%matplotlib inline  "
      ]
    },
    {
      "cell_type": "markdown",
      "id": "7ee885bf-ccc9-456c-bab0-b01d40a36beb",
      "metadata": {},
      "outputs": [],
      "source": [
        "The first step in creating your own class is to use the <code>class</code> keyword, then the name of the class as shown in Figure 4. In this course the class parent will always be the object:\n"
      ]
    },
    {
      "cell_type": "markdown",
      "id": "a9747611-e12c-4914-85a7-65b0619fe949",
      "metadata": {},
      "outputs": [],
      "source": [
        "<img src=\"https://cf-courses-data.s3.us.cloud-object-storage.appdomain.cloud/IBMDeveloperSkillsNetwork-PY0101EN-SkillsNetwork/labs/Module%203/images/ClassesDefine.png\" width=\"400\">\n"
      ]
    },
    {
      "cell_type": "markdown",
      "id": "1e31d79c-d949-4ce1-b437-3331818d84c9",
      "metadata": {},
      "outputs": [],
      "source": [
        "<i>Figure 4: Creating a class Circle.</i>\n"
      ]
    },
    {
      "cell_type": "markdown",
      "id": "4e1ce689-3dd4-4e92-844c-1cde3ec262fe",
      "metadata": {},
      "outputs": [],
      "source": [
        "The next step is a special method called a constructor <code>\\__init\\_\\_</code>, which is used to initialize the object. The inputs are data attributes. The term <code>self</code> contains all the attributes in the set. For example the <code>self.color</code> gives the value of the attribute color and <code>self.radius</code> will give you the radius of the object. We also have the method <code>add_radius()</code> with the parameter <code>r</code>, the method adds the value of <code>r</code> to the attribute radius. To access the radius we use the syntax <code>self.radius</code>. The labelled syntax is summarized in Figure 5:\n"
      ]
    },
    {
      "cell_type": "markdown",
      "id": "dca66238-4613-462f-adf3-a2925c916948",
      "metadata": {},
      "outputs": [],
      "source": [
        "<img src=\"https://cf-courses-data.s3.us.cloud-object-storage.appdomain.cloud/IBMDeveloperSkillsNetwork-PY0101EN-SkillsNetwork/labs/Module%203/images/ClassesCircle.png\" width=\"600\">\n"
      ]
    },
    {
      "cell_type": "markdown",
      "id": "833444fb-7a95-4e28-bc21-30b3f1447e8d",
      "metadata": {},
      "outputs": [],
      "source": [
        "<i>Figure 5: Labeled syntax of the object circle.</i>\n"
      ]
    },
    {
      "cell_type": "markdown",
      "id": "bebf55af-06b8-4294-87a6-98bbf5ee00b3",
      "metadata": {},
      "outputs": [],
      "source": [
        "The actual object is shown below. We include the method <code>drawCircle</code> to display the image of a circle. We set the default radius to 3 and the default colour to blue:\n"
      ]
    },
    {
      "cell_type": "code",
      "id": "7f1240ef-2d14-452c-8078-1bf7d9228c07",
      "metadata": {},
      "outputs": [],
      "source": [
        "# Create a class Circle\n\nclass Circle(object):\n    \n    # Constructor\n    def __init__(self, radius=3, color='blue'):\n        self.radius = radius\n        self.color = color \n    \n    # Method\n    def add_radius(self, r):\n        self.radius = self.radius + r\n        return(self.radius)\n    \n    # Method\n    def drawCircle(self):\n        plt.gca().add_patch(plt.Circle((0, 0), radius=self.radius, fc=self.color))\n        plt.axis('scaled')\n        plt.show()  "
      ]
    },
    {
      "cell_type": "markdown",
      "id": "7c990aa4-536b-4adc-af2e-36954f57dc10",
      "metadata": {},
      "outputs": [],
      "source": [
        "<hr>\n"
      ]
    },
    {
      "cell_type": "markdown",
      "id": "3a29a6a7-e45c-4812-8a80-00ad76aeb5c0",
      "metadata": {},
      "outputs": [],
      "source": [
        "<h2 id=\"circle\">Creating an instance of a class Circle</h2>\n"
      ]
    },
    {
      "cell_type": "markdown",
      "id": "30f24b2e-7aab-4df0-b79d-47a419066a3e",
      "metadata": {},
      "outputs": [],
      "source": [
        "Let’s create the object <code>RedCircle</code> of type Circle to do the following:\n"
      ]
    },
    {
      "cell_type": "code",
      "id": "9006b88a-2b08-4766-b7c4-ff9e71fbf8b7",
      "metadata": {},
      "outputs": [],
      "source": [
        "# Create an object RedCircle\n\nRedCircle = Circle(10, 'red')"
      ]
    },
    {
      "cell_type": "markdown",
      "id": "4238d52f-70be-47be-a00c-0802453634d0",
      "metadata": {},
      "outputs": [],
      "source": [
        "We can use the <code>dir</code> command to get a list of the object's methods. Many of them are default Python methods.\n"
      ]
    },
    {
      "cell_type": "code",
      "id": "6e4f0c4a-578c-4446-9593-d577e76255d0",
      "metadata": {},
      "outputs": [],
      "source": [
        "# Find out the methods can be used on the object RedCircle\n\ndir(RedCircle)"
      ]
    },
    {
      "cell_type": "markdown",
      "id": "f19e68c7-665a-4bb7-a861-5749edebd439",
      "metadata": {},
      "outputs": [],
      "source": [
        "We can look at the data attributes of the object:\n"
      ]
    },
    {
      "cell_type": "code",
      "id": "b37cafc3-8041-445c-8a29-01e13c294b70",
      "metadata": {},
      "outputs": [],
      "source": [
        "# Print the object attribute radius\n\nRedCircle.radius"
      ]
    },
    {
      "cell_type": "code",
      "id": "836cf331-1f9b-4555-a96a-80ee2df47874",
      "metadata": {},
      "outputs": [],
      "source": [
        "# Print the object attribute color\n\nRedCircle.color"
      ]
    },
    {
      "cell_type": "markdown",
      "id": "0a44d768-c538-4868-98dd-bd2fcb3e16d2",
      "metadata": {},
      "outputs": [],
      "source": [
        "We can change the object's data attributes:\n"
      ]
    },
    {
      "cell_type": "code",
      "id": "b4fc3b47-484d-4ecd-b635-6f3935cb45f7",
      "metadata": {},
      "outputs": [],
      "source": [
        "# Set the object attribute radius\n\nRedCircle.radius = 1\nRedCircle.radius"
      ]
    },
    {
      "cell_type": "markdown",
      "id": "5c92a41f-65c1-4d5f-839d-ded45b032661",
      "metadata": {},
      "outputs": [],
      "source": [
        "We can draw the object by using the method <code>drawCircle()</code>:\n"
      ]
    },
    {
      "cell_type": "code",
      "id": "019690b4-827a-4675-91f6-4c906aab9629",
      "metadata": {},
      "outputs": [],
      "source": [
        "# Call the method drawCircle\n\nRedCircle.drawCircle()"
      ]
    },
    {
      "cell_type": "markdown",
      "id": "c99ffce8-566c-4f9b-b2c1-5f2211fd611e",
      "metadata": {},
      "outputs": [],
      "source": [
        "We can increase the radius of the circle by applying the method <code>add_radius()</code>. Let's increase the radius by 2 and then by 5:\n"
      ]
    },
    {
      "cell_type": "code",
      "id": "559f6ec2-3468-45af-b868-3ec51c0c2744",
      "metadata": {},
      "outputs": [],
      "source": [
        "# Use method to change the object attribute radius\n\nprint('Radius of object:',RedCircle.radius)\nRedCircle.add_radius(2)\nprint('Radius of object of after applying the method add_radius(2):',RedCircle.radius)\nRedCircle.add_radius(5)\nprint('Radius of object of after applying the method add_radius(5):',RedCircle.radius)"
      ]
    },
    {
      "cell_type": "markdown",
      "id": "0ad1dc90-ea55-46ec-95ca-ae7dff1f685b",
      "metadata": {},
      "outputs": [],
      "source": [
        "Let’s create a blue circle. As the default colour is blue, all we have to do is specify what the radius is:\n"
      ]
    },
    {
      "cell_type": "code",
      "id": "1bc2d031-1cfc-4b03-9e3b-853d842d57ea",
      "metadata": {},
      "outputs": [],
      "source": [
        "# Create a blue circle with a given radius\n\nBlueCircle = Circle(radius=100)"
      ]
    },
    {
      "cell_type": "markdown",
      "id": "1466246b-97d4-4a80-a57f-0ffdca9c0958",
      "metadata": {},
      "outputs": [],
      "source": [
        "As before, we can access the attributes of the instance of the class by using the dot notation:\n"
      ]
    },
    {
      "cell_type": "code",
      "id": "b95090b9-dcec-4823-95e5-f9569bc10c7b",
      "metadata": {},
      "outputs": [],
      "source": [
        "# Print the object attribute radius\n\nBlueCircle.radius"
      ]
    },
    {
      "cell_type": "code",
      "id": "2f12a26e-462f-463d-8f6f-91b229e3fb9b",
      "metadata": {},
      "outputs": [],
      "source": [
        "# Print the object attribute color\n\nBlueCircle.color"
      ]
    },
    {
      "cell_type": "markdown",
      "id": "2e0ce842-b765-4876-8289-0b7624365314",
      "metadata": {},
      "outputs": [],
      "source": [
        "We can draw the object by using the method <code>drawCircle()</code>:\n"
      ]
    },
    {
      "cell_type": "code",
      "id": "dfde8deb-598c-4d22-8620-31218fdf7c77",
      "metadata": {},
      "outputs": [],
      "source": [
        "# Call the method drawCircle\n\nBlueCircle.drawCircle()"
      ]
    },
    {
      "cell_type": "markdown",
      "id": "eaa96eff-5f33-4527-a647-45aa20da28a8",
      "metadata": {},
      "outputs": [],
      "source": [
        "Compare the x and y axis of the figure to the figure for <code>RedCircle</code>; they are different.\n"
      ]
    },
    {
      "cell_type": "markdown",
      "id": "216b88b7-e73b-4f7f-8cdb-3856c40d4359",
      "metadata": {},
      "outputs": [],
      "source": [
        "<hr>\n"
      ]
    },
    {
      "cell_type": "markdown",
      "id": "b633cfce-0844-4980-aac8-1fedd2a93d59",
      "metadata": {},
      "outputs": [],
      "source": [
        "<h2 id=\"rect\">The Rectangle Class</h2>\n"
      ]
    },
    {
      "cell_type": "markdown",
      "id": "6c460929-0bd0-4f87-af47-7c41f0544fa3",
      "metadata": {},
      "outputs": [],
      "source": [
        "Let's create a class rectangle with the attributes of height, width, and color. We will only add the method to draw the rectangle object:\n"
      ]
    },
    {
      "cell_type": "code",
      "id": "d2482397-1e07-46c4-a367-8e4fb93fba4a",
      "metadata": {},
      "outputs": [],
      "source": [
        "# Create a new Rectangle class for creating a rectangle object\n\nclass Rectangle(object):\n    \n    # Constructor\n    def __init__(self, width=2, height=3, color='r'):\n        self.height = height \n        self.width = width\n        self.color = color\n    \n    # Method\n    def drawRectangle(self):\n        plt.gca().add_patch(plt.Rectangle((0, 0), self.width, self.height ,fc=self.color))\n        plt.axis('scaled')\n        plt.show()\n        "
      ]
    },
    {
      "cell_type": "markdown",
      "id": "349b49a1-63d6-43de-b47a-cf3668c5c549",
      "metadata": {},
      "outputs": [],
      "source": [
        "Let’s create the object <code>SkinnyBlueRectangle</code> of type Rectangle. Its width will be 2 and height will be 3, and the color will be blue:\n"
      ]
    },
    {
      "cell_type": "code",
      "id": "3404d5c3-9055-421d-ba40-798a83120fcf",
      "metadata": {},
      "outputs": [],
      "source": [
        "# Create a new object rectangle\n\nSkinnyBlueRectangle = Rectangle(2, 3, 'blue')"
      ]
    },
    {
      "cell_type": "markdown",
      "id": "450321bc-373d-4e13-96ee-de3b55344523",
      "metadata": {},
      "outputs": [],
      "source": [
        "As before we can access the attributes of the instance of the class by using the dot notation:\n"
      ]
    },
    {
      "cell_type": "code",
      "id": "0ffce7ca-5467-4d66-8b6e-50e0a4ab404d",
      "metadata": {},
      "outputs": [],
      "source": [
        "# Print the object attribute height\n\nSkinnyBlueRectangle.height "
      ]
    },
    {
      "cell_type": "code",
      "id": "ef8bbada-8afd-47ea-a0f5-b27d7c895b89",
      "metadata": {},
      "outputs": [],
      "source": [
        "# Print the object attribute width\n\nSkinnyBlueRectangle.width"
      ]
    },
    {
      "cell_type": "code",
      "id": "c4e56bea-43d7-4113-94ad-cd851ec524b3",
      "metadata": {},
      "outputs": [],
      "source": [
        "# Print the object attribute color\n\nSkinnyBlueRectangle.color"
      ]
    },
    {
      "cell_type": "markdown",
      "id": "6a06382c-840d-42a6-94fc-73d335e013c9",
      "metadata": {},
      "outputs": [],
      "source": [
        "We can draw the object:\n"
      ]
    },
    {
      "cell_type": "code",
      "id": "003361c7-5656-4a19-bb44-c6049be11472",
      "metadata": {},
      "outputs": [],
      "source": [
        "# Use the drawRectangle method to draw the shape\n\nSkinnyBlueRectangle.drawRectangle()"
      ]
    },
    {
      "cell_type": "markdown",
      "id": "c7454b44-e5e9-4dc1-8072-a5762cb6d1a8",
      "metadata": {},
      "outputs": [],
      "source": [
        "Let’s create the object <code>FatYellowRectangle</code> of type Rectangle:\n"
      ]
    },
    {
      "cell_type": "code",
      "id": "7c978b76-4d71-4d93-a8d1-56c943b80551",
      "metadata": {},
      "outputs": [],
      "source": [
        "# Create a new object rectangle\n\nFatYellowRectangle = Rectangle(20, 5, 'yellow')"
      ]
    },
    {
      "cell_type": "markdown",
      "id": "0c814300-7498-4896-bc87-f3f8d0ec06aa",
      "metadata": {},
      "outputs": [],
      "source": [
        "We can access the attributes of the instance of the class by using the dot notation:\n"
      ]
    },
    {
      "cell_type": "code",
      "id": "3df37d04-3171-4221-95d8-4c1942862477",
      "metadata": {},
      "outputs": [],
      "source": [
        "# Print the object attribute height\n\nFatYellowRectangle.height "
      ]
    },
    {
      "cell_type": "code",
      "id": "67be2d14-05ff-4cca-a3cc-5fd30c1220a2",
      "metadata": {},
      "outputs": [],
      "source": [
        "# Print the object attribute width\n\nFatYellowRectangle.width"
      ]
    },
    {
      "cell_type": "code",
      "id": "0b8541c0-3bac-4c27-b4d3-e7db6d1b28bf",
      "metadata": {},
      "outputs": [],
      "source": [
        "# Print the object attribute color\n\nFatYellowRectangle.color"
      ]
    },
    {
      "cell_type": "markdown",
      "id": "10d7e1bb-9431-4d21-98ff-b91ee468f65c",
      "metadata": {},
      "outputs": [],
      "source": [
        "We can draw the object:\n"
      ]
    },
    {
      "cell_type": "code",
      "id": "680701f4-f128-44f8-944e-7f414c659976",
      "metadata": {},
      "outputs": [],
      "source": [
        "# Use the drawRectangle method to draw the shape\n\nFatYellowRectangle.drawRectangle()"
      ]
    },
    {
      "cell_type": "markdown",
      "id": "ea3b5392-4b55-4a9e-badb-9d5f4fbcb2c6",
      "metadata": {},
      "outputs": [],
      "source": [
        "<hr>\n"
      ]
    },
    {
      "cell_type": "markdown",
      "id": "62bb6f40-ae15-4231-8ca7-6396f35371d8",
      "metadata": {},
      "outputs": [],
      "source": [
        "<center>\n",
        "    \n",
        "# Scenario: Car dealership's inventory management system\n",
        "\n",
        "</center>\n"
      ]
    },
    {
      "cell_type": "markdown",
      "id": "cf5b268a-b74f-40a3-861c-27f035bb15de",
      "metadata": {},
      "outputs": [],
      "source": [
        "You are working on a Python program to simulate a car dealership's inventory management system. The system aims to model cars and their attributes accurately.\n"
      ]
    },
    {
      "cell_type": "markdown",
      "id": "13cc08de-7d5b-4654-af41-5b160aceb382",
      "metadata": {},
      "outputs": [],
      "source": [
        "### Task-1. You are tasked with creating a Python program to represent vehicles using a class. Each car should have attributes for maximum speed and mileage. \n"
      ]
    },
    {
      "cell_type": "code",
      "id": "a3d312ff-0bcf-4f5b-888d-d3e3161f9bac",
      "metadata": {},
      "outputs": [],
      "source": [
        "#Type your code here"
      ]
    },
    {
      "cell_type": "markdown",
      "id": "58da5939-1187-4d7b-a1f7-9e971337fbbb",
      "metadata": {},
      "outputs": [],
      "source": [
        "<details><summary>Click here for the solution</summary>\n",
        "\n",
        "```python\n",
        "\n",
        "class Vehicle:\n",
        "    def __init__(self, max_speed, mileage):\n",
        "        self.max_speed = max_speed\n",
        "        self.mileage = mileage\n",
        "        \n",
        "```\n",
        "\n",
        "</details>\n"
      ]
    },
    {
      "cell_type": "markdown",
      "id": "8c71a158-63cb-4e40-b014-83703739350d",
      "metadata": {},
      "outputs": [],
      "source": [
        "### Task-2. Update the class with the default color for all vehicles,\" white\".\n"
      ]
    },
    {
      "cell_type": "code",
      "id": "96774df4-5989-42b0-92e1-2cf5b6478e02",
      "metadata": {},
      "outputs": [],
      "source": [
        "#Type your code here"
      ]
    },
    {
      "cell_type": "markdown",
      "id": "a9673df0-e834-4e9f-aee0-2a740daee262",
      "metadata": {},
      "outputs": [],
      "source": [
        "<details><summary>Click here for the solution</summary>\n",
        "\n",
        "```python\n",
        "\n",
        "class Vehicle:\n",
        "    color = \"white\"\n",
        "\n",
        "    def __init__(self, max_speed, mileage):\n",
        "        self.max_speed = max_speed\n",
        "        self.mileage = mileage\n",
        "        \n",
        "```\n",
        "\n",
        "</details>\n"
      ]
    },
    {
      "cell_type": "markdown",
      "id": "b66a7225-4371-4756-879d-4287bb4f09af",
      "metadata": {},
      "outputs": [],
      "source": [
        "### Task-3. Additionally, you need to create methods in the Vehicle class to assign seating capacity to a vehicle. \n"
      ]
    },
    {
      "cell_type": "code",
      "id": "266e4b49-2bf0-4925-bb8e-d76df8cd63fd",
      "metadata": {},
      "outputs": [],
      "source": [
        "#Type your code here"
      ]
    },
    {
      "cell_type": "markdown",
      "id": "ffcdf64a-a86e-4f0e-b0da-6154f69d0c3e",
      "metadata": {},
      "outputs": [],
      "source": [
        "<details><summary>Click here for the solution</summary>\n",
        "\n",
        "```python\n",
        "\n",
        "class Vehicle:\n",
        "    color = \"white\"\n",
        "\n",
        "    def __init__(self, max_speed, mileage):\n",
        "        self.max_speed = max_speed\n",
        "        self.mileage = mileage\n",
        "        self.seating_capacity = None\n",
        "\n",
        "    def assign_seating_capacity(self, seating_capacity):\n",
        "        self.seating_capacity = seating_capacity\n",
        "```\n",
        "\n",
        "</details>\n"
      ]
    },
    {
      "cell_type": "markdown",
      "id": "f2b58583-aca0-4518-8d37-732d7f6d67c3",
      "metadata": {},
      "outputs": [],
      "source": [
        "### Task-4. Create a method to display all the properties of an object of the class. \n"
      ]
    },
    {
      "cell_type": "code",
      "id": "0027d823-9788-445f-9bf1-f99b6b4586e6",
      "metadata": {},
      "outputs": [],
      "source": [
        "#Type your code here"
      ]
    },
    {
      "cell_type": "markdown",
      "id": "8491e2bf-c2e2-4493-8560-e6b1980d38b1",
      "metadata": {},
      "outputs": [],
      "source": [
        "<details><summary>Click here for the solution</summary>\n",
        "\n",
        "```python\n",
        "class Vehicle:\n",
        "    color = \"white\"\n",
        "\n",
        "    def __init__(self, max_speed, mileage):\n",
        "        self.max_speed = max_speed\n",
        "        self.mileage = mileage\n",
        "        self.seating_capacity = None\n",
        "\n",
        "    def assign_seating_capacity(self, seating_capacity):\n",
        "        self.seating_capacity = seating_capacity\n",
        "\n",
        "    def display_properties(self):\n",
        "        print(\"Properties of the Vehicle:\")\n",
        "        print(\"Color:\", self.color)\n",
        "        print(\"Maximum Speed:\", self.max_speed)\n",
        "        print(\"Mileage:\", self.mileage)\n",
        "        print(\"Seating Capacity:\", self.seating_capacity)\n",
        "        \n",
        "```\n",
        "\n",
        "</details>\n"
      ]
    },
    {
      "cell_type": "markdown",
      "id": "dcb6fdb8-bb80-41d4-963f-f13b2d316b6a",
      "metadata": {},
      "outputs": [],
      "source": [
        "### Task-5. Additionally, you need to create two objects of the Vehicle class object that should have a max speed of 200kph and mileage of 50000kmpl with five seating capacities, and another car object should have a max speed of 180kph and 75000kmpl with four seating capacities.\n"
      ]
    },
    {
      "cell_type": "code",
      "id": "e3039b6d-9a43-495e-9f80-f3c720188f86",
      "metadata": {},
      "outputs": [],
      "source": [
        "#Type your code here"
      ]
    },
    {
      "cell_type": "markdown",
      "id": "74a453fb-248d-4425-a471-3e49696899e7",
      "metadata": {},
      "outputs": [],
      "source": [
        "<details><summary>Click here for the solution</summary>\n",
        "\n",
        "```python\n",
        "class Vehicle:\n",
        "    color = \"white\"\n",
        "\n",
        "    def __init__(self, max_speed, mileage):\n",
        "        self.max_speed = max_speed\n",
        "        self.mileage = mileage\n",
        "        self.seating_capacity = None\n",
        "\n",
        "    def assign_seating_capacity(self, seating_capacity):\n",
        "        self.seating_capacity = seating_capacity\n",
        "\n",
        "    def display_properties(self):\n",
        "        print(\"Properties of the Vehicle:\")\n",
        "        print(\"Color:\", self.color)\n",
        "        print(\"Maximum Speed:\", self.max_speed)\n",
        "        print(\"Mileage:\", self.mileage)\n",
        "        print(\"Seating Capacity:\", self.seating_capacity)\n",
        "\n",
        "# Creating objects of the Vehicle class\n",
        "vehicle1 = Vehicle(200, 50000)\n",
        "vehicle1.assign_seating_capacity(5)\n",
        "vehicle1.display_properties()\n",
        "\n",
        "vehicle2 = Vehicle(180, 75000)\n",
        "vehicle2.assign_seating_capacity(4)\n",
        "vehicle2.display_properties()\n",
        "\n",
        "```\n",
        "\n",
        "</details>\n"
      ]
    },
    {
      "cell_type": "markdown",
      "id": "9e9def42-2760-4643-9e6e-73612ec31a36",
      "metadata": {},
      "outputs": [],
      "source": [
        "<h2 id=\"rect\">Exercises</h2>\n"
      ]
    },
    {
      "cell_type": "markdown",
      "id": "22b9a4c7-4be3-427c-a449-200c9aae8eb0",
      "metadata": {},
      "outputs": [],
      "source": [
        "<h4> Text Analysis </h4>\n"
      ]
    },
    {
      "cell_type": "markdown",
      "id": "1ceaced3-7a26-4897-828a-dae564ba68eb",
      "metadata": {},
      "outputs": [],
      "source": [
        "You have been recruited by your friend, a linguistics enthusiast, to create a utility tool that can perform analysis on a given piece of text. Complete the class\n",
        "'analysedText' with the following methods -\n",
        "\n",
        "<ul>\n",
        "    <li> Constructor (__init__) - This method should take the argument <code>text</code>, make it lower case, and remove all punctuation.  Assume only the following punctuation is used: period (.), exclamation mark (!), comma (,) and question mark (?). Assign this newly formatted text to a new attribute called <code>fmtText</code>.\n",
        "    <li> freqAll - This method should create and <strong>return</strong> dictionary of all unique words in the text, along with the number of times they occur in the text. Each key in the dictionary should be the unique word appearing in the text and the associated value should be the number of times it occurs in the text. Create this dictionary from the <code>fmtText</code> attribute.\n",
        "    <li> freqOf - This method should take a word as an argument and <strong>return</strong> the number of occurrences of that word in <code>fmtText</code>.\n",
        "</ul>\n",
        " The skeleton code has been given to you. Docstrings can be ignored for the purpose of the exercise. <br>\n",
        " <i> Hint: Some useful functions are <code>replace()</code>, <code>lower()</code>, <code>split()</code>, <code>count()</code> </i><br>\n"
      ]
    },
    {
      "cell_type": "markdown",
      "id": "35aced4b-b255-43ca-953e-192185076cdd",
      "metadata": {},
      "outputs": [],
      "source": [
        "<details><summary>Hint for implementing Constructor</summary>\n",
        "\n",
        "The <code>lower()</code> function converts all characters in the string to lowercase.\n",
        "\n",
        "The <code>replace()</code> function takes two arguments: the text to search for and the text to replace it with. Try calling this function for each punctuation you want to remove and replace it with a blank character, <code>''</code>\n",
        "\n",
        "You can define a class attribute and assign it a value with the following generic recipe: <code>self.attribute_name = value</code>\n",
        "\n",
        "</details>\n"
      ]
    },
    {
      "cell_type": "markdown",
      "id": "776a719f-362a-48e7-af78-1adc2fcc15c1",
      "metadata": {},
      "outputs": [],
      "source": [
        "<details><summary>Hint for implementing freqAll</summary>\n",
        "\n",
        "You can create a list of all words in <code>fmtText</code> using the <code>split()</code> and by using the whitespace character, <code>' '</code> as the delimiter.\n",
        "\n",
        "Using <code>set()</code> with a list as the argument will return a set with all the unique elements in the list. Try iterating over the elements in this set to create the keys for a dictionary. The <code>count()</code> function will return the number of occurrences of the argument in list. For example, <code>\\[\"hi\", \"hi\", \"hello\"].count(\"hi\")</code> will return 2. This can be used to set the values for each key-value pair in the dictionary.\n",
        "\n",
        "</details>\n"
      ]
    },
    {
      "cell_type": "markdown",
      "id": "f3761abc-3abf-42b4-83f7-181250e8891b",
      "metadata": {},
      "outputs": [],
      "source": [
        "<details><summary>Hint for implementing freqOf</summary>\n",
        "\n",
        "Try calling the <code>freqAll</code> method you implemented above and assign it to a variable. You will now have a dictionary with the unique words that appear in fmtText as the keys, and the number of times they appear as the value.\n",
        "\n",
        "You can use this dictionary to return the number of occurrences of the word that was given as an argument to the <code>freqOf</code> method.\n",
        "\n",
        "If the word given as an argument does not appear in the text, return 0. You can check if a string is a key in the dictionary using the following code recipe: <code>if item in my_dictionary:</code>\n",
        "\n",
        "</details>\n"
      ]
    },
    {
      "cell_type": "code",
      "id": "9360b60e-5ec2-48e7-8d50-7ab164beaf6c",
      "metadata": {},
      "outputs": [],
      "source": [
        "class analysedText(object):\n    \n    def __init__ (self, text):\n\n        # TODO: Remove the punctuation from <text> and make it lower case.\n\n        # TODO: Assign the formatted text to a new attribute called \"fmtText\"\n        \n        pass \n    \n    def freqAll(self):    \n\n        # TODO: Split the text into a list of words  \n\n        # TODO: Create a dictionary with the unique words in the text as keys\n        # and the number of times they occur in the text as values\n      \n        pass # return the created dictionary\n    \n    def freqOf(self, word):\n\n        # TODO: return the number of occurrences of <word> in <fmtText>\n\n        pass\n        "
      ]
    },
    {
      "cell_type": "markdown",
      "id": "566220a9-b7a8-43e2-8219-1f77ea556817",
      "metadata": {},
      "outputs": [],
      "source": [
        "You can run the code cell below to test your functions to ensure they are working correctly. First execute the code cell in which you implemented your solution, then execute the code cell to test your implementation.\n"
      ]
    },
    {
      "cell_type": "code",
      "id": "c27955ad-6fed-44ab-923e-853c0bbdc6c8",
      "metadata": {},
      "outputs": [],
      "source": [
        "import sys\n\nsampleMap = {'eirmod': 1,'sed': 1, 'amet': 2, 'diam': 5, 'consetetur': 1, 'labore': 1, 'tempor': 1, 'dolor': 1, 'magna': 2, 'et': 3, 'nonumy': 1, 'ipsum': 1, 'lorem': 2}\n\ndef testMsg(passed):\n    if passed:\n       return 'Test Passed'\n    else :\n       return 'Test Failed'\n\nprint(\"Constructor: \")\ntry:\n    samplePassage = analysedText(\"Lorem ipsum dolor! diam amet, consetetur Lorem magna. sed diam nonumy eirmod tempor. diam et labore? et diam magna. et diam amet.\")\n    print(testMsg(samplePassage.fmtText == \"lorem ipsum dolor diam amet consetetur lorem magna sed diam nonumy eirmod tempor diam et labore et diam magna et diam amet\"))\nexcept:\n    print(\"Error detected. Recheck your function \" )\nprint(\"freqAll: \")\ntry:\n    wordMap = samplePassage.freqAll()\n    print(testMsg(wordMap==sampleMap))\nexcept:\n    print(\"Error detected. Recheck your function \" )\nprint(\"freqOf: \")\ntry:\n    passed = True\n    for word in sampleMap:\n        if samplePassage.freqOf(word) != sampleMap[word]:\n            passed = False\n            break\n    print(testMsg(passed))\n    \nexcept:\n    print(\"Error detected. Recheck your function  \" )\n    "
      ]
    },
    {
      "cell_type": "markdown",
      "id": "71a4cd81-82e8-4738-ad37-cc27f31dcd3e",
      "metadata": {},
      "outputs": [],
      "source": [
        "<details><summary>Click here for the solution</summary>\n",
        "\n",
        "```python\n",
        "class analysedText(object):\n",
        "    \n",
        "    def __init__ (self, text):\n",
        "        # remove punctuation\n",
        "        formattedText = text.replace('.','').replace('!','').replace('?','').replace(',','')\n",
        "        \n",
        "        # make text lowercase\n",
        "        formattedText = formattedText.lower()\n",
        "        \n",
        "        self.fmtText = formattedText\n",
        "        \n",
        "    def freqAll(self):        \n",
        "        # split text into words\n",
        "        wordList = self.fmtText.split(' ')\n",
        "        \n",
        "        # Create dictionary\n",
        "        freqMap = {}\n",
        "        for word in set(wordList): # use set to remove duplicates in list\n",
        "            freqMap[word] = wordList.count(word)\n",
        "        \n",
        "        return freqMap\n",
        "    \n",
        "    def freqOf(self,word):\n",
        "        # get frequency map\n",
        "        freqDict = self.freqAll()\n",
        "        \n",
        "        if word in freqDict:\n",
        "            return freqDict[word]\n",
        "        else:\n",
        "            return 0\n",
        "    \n",
        "```\n",
        "\n",
        "</details>\n"
      ]
    },
    {
      "cell_type": "markdown",
      "id": "8b30dfc4-0a57-4eb6-b63f-a63bcb60dd2b",
      "metadata": {},
      "outputs": [],
      "source": [
        "<hr>\n",
        "<h2>The last exercise!</h2>\n",
        "<p>Congratulations, you have completed your first lesson and hands-on lab in Python. \n",
        "<hr>\n"
      ]
    },
    {
      "cell_type": "markdown",
      "id": "c7aa7b0a-5893-48b2-ab22-2fe651118fda",
      "metadata": {},
      "outputs": [],
      "source": [
        "## Author\n",
        "\n",
        "<a href=\"https://www.linkedin.com/in/joseph-s-50398b136/?utm_medium=Exinfluencer&utm_source=Exinfluencer&utm_content=000026UJ&utm_term=10006555&utm_id=NA-SkillsNetwork-Channel-SkillsNetworkCoursesIBMDeveloperSkillsNetworkPY0101ENSkillsNetwork19487395-2021-01-01\">Joseph Santarcangelo</a>\n",
        "\n",
        "## Other contributors\n",
        "\n",
        "<a href=\"https://www.linkedin.com/in/jiahui-mavis-zhou-a4537814a?utm_medium=Exinfluencer&utm_source=Exinfluencer&utm_content=000026UJ&utm_term=10006555&utm_id=NA-SkillsNetwork-Channel-SkillsNetworkCoursesIBMDeveloperSkillsNetworkPY0101ENSkillsNetwork19487395-2021-01-01\">Mavis Zhou</a>\n",
        "\n",
        "## Change Log\n",
        "\n",
        "| Date (YYYY-MM-DD) | Version | Changed By | Change Description                 |\n",
        "| ----------------- | ------- | ---------- | ---------------------------------- |\n",
        "| 2023-05-16        | 2.2     |Akansha Yadav | updated lab under maintenance   |\n",
        "| 2022-01-10        | 2.1     | Malika     | Removed the readme for GitShare    |\n",
        "| 2020-08-26        | 2.0     | Lavanya    | Moved lab to course repo in GitLab |\n",
        "|                   |         |            |                                    |\n",
        "|                   |         |            |                                    |\n",
        "\n",
        "<hr/>\n",
        "\n",
        "## <h3 align=\"center\"> © IBM Corporation 2020. All rights reserved. <h3/>\n"
      ]
    },
    {
      "cell_type": "code",
      "id": "9656d33b-28f8-4b8f-9f10-bc494bc4677e",
      "metadata": {},
      "outputs": [],
      "source": [
        ""
      ]
    }
  ],
  "metadata": {
    "kernelspec": {
      "display_name": "Python",
      "language": "python",
      "name": "conda-env-python-py"
    },
    "language_info": {
      "name": ""
    }
  },
  "nbformat": 4,
  "nbformat_minor": 4
}